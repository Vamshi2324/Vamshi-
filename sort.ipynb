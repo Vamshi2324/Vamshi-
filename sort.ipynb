{
 "cells": [
  {
   "cell_type": "code",
   "execution_count": 9,
   "metadata": {},
   "outputs": [],
   "source": [
    "import time\n",
    "def readTheFile( theFile ) :\n",
    "    with open( theFile ) as f :\n",
    "        lines = f.readlines()\n",
    "    f.close()\n",
    "    return lines"
   ]
  },
  {
   "cell_type": "code",
   "execution_count": 10,
   "metadata": {},
   "outputs": [],
   "source": [
    "def selectionSort( theText ) :\n",
    "    n = len( theText )\n",
    "    for i in range( n - 1 ) :\n",
    "        smallIndex = i\n",
    "        for j in range( i + 1, n ) :\n",
    "            if theText[j] < theText[smallIndex] :\n",
    "                smallIndex = j\n",
    "        if smallIndex != i :\n",
    "            theText[i], theText[smallIndex] = theText[smallIndex], theText[i]\n",
    "    return theText\n",
    "beforeTime = time.perf_counter()"
   ]
  },
  {
   "cell_type": "code",
   "execution_count": 11,
   "metadata": {},
   "outputs": [
    {
     "name": "stdout",
     "output_type": "stream",
     "text": [
      "It took 18.524875800000018 seconds to sort the file\n"
     ]
    }
   ],
   "source": [
    "sortedFile = selectionSort( readTheFile( \"20k.txt\" ) )\n",
    "afterTime = time.perf_counter()\n",
    "print( \"It took {} seconds to sort the file\".format( afterTime - beforeTime ) )\n",
    "with open( \"SelectionSorted20k.txt\", 'w' ) as f :\n",
    "    for i in range( len( sortedFile ) ) :\n",
    "        f.write( sortedFile[i] )"
   ]
  },
  {
   "cell_type": "code",
   "execution_count": 18,
   "metadata": {},
   "outputs": [],
   "source": [
    "import time\n",
    "def readTheFile( theFile ) :\n",
    "    with open( theFile ) as f :\n",
    "        lines = f.readlines()\n",
    "    f.close()\n",
    "    return lines"
   ]
  },
  {
   "cell_type": "code",
   "execution_count": 19,
   "metadata": {},
   "outputs": [],
   "source": [
    "def insertionSort( theText ) :\n",
    "    n = len( theText )\n",
    "    for i in range( 1, n ) :\n",
    "        value = theText[i]\n",
    "        pos = i\n",
    "        while pos > 0 and value < theText[ pos - 1 ] :\n",
    "            theText[ pos ] = theText[ pos - 1 ]\n",
    "            pos -= 1\n",
    "        theText[pos] = value\n",
    "    return theText\n",
    "beforeTime = time.perf_counter()"
   ]
  },
  {
   "cell_type": "code",
   "execution_count": 17,
   "metadata": {},
   "outputs": [
    {
     "name": "stdout",
     "output_type": "stream",
     "text": [
      "It took 25.227292999999918 seconds to sort the file.\n"
     ]
    }
   ],
   "source": [
    "sortedFile = insertionSort( readTheFile( \"20k.txt\" ) )\n",
    "afterTime = time.perf_counter()\n",
    "print( \"It took {} seconds to sort the file.\".format( afterTime - beforeTime ) )\n",
    "with open(\"InsertionSorted20k.txt\", 'w') as f :\n",
    "    for i in range( len( sortedFile ) ) :\n",
    "        f.write( sortedFile[i] )"
   ]
  },
  {
   "cell_type": "code",
   "execution_count": 23,
   "metadata": {},
   "outputs": [],
   "source": [
    "import time\n",
    "def readTheFile( theFile ) :\n",
    "    with open( theFile ) as f :\n",
    "        lines = f.readlines()\n",
    "    f.close()\n",
    "    return lines"
   ]
  },
  {
   "cell_type": "code",
   "execution_count": 24,
   "metadata": {},
   "outputs": [],
   "source": [
    "def bubbleSort( theText ) :\n",
    "    n = len( theText )\n",
    "    for i in range( n - 1 ) :\n",
    "        for j in range( n - 1 - i ) :\n",
    "            if theText[j] > theText[j + 1] : \n",
    "                tmp = theText[j]\n",
    "                theText[j] = theText[j + 1]\n",
    "                theText[j + 1] = tmp\n",
    "    return theText"
   ]
  },
  {
   "cell_type": "code",
   "execution_count": 25,
   "metadata": {},
   "outputs": [
    {
     "name": "stdout",
     "output_type": "stream",
     "text": [
      "It took 44.6251013000001 seconds.\n"
     ]
    }
   ],
   "source": [
    "before = time.perf_counter()\n",
    "sortedFile = bubbleSort( readTheFile( \"20k.txt\" ) )\n",
    "after = time.perf_counter()\n",
    "timeTaken = ( after - before )\n",
    "print( \"It took {} seconds.\".format( timeTaken ) )\n",
    "with open( \"BubbleSorted20k.txt\", 'w' ) as f :\n",
    "    for i in range( len( sortedFile ) ) :\n",
    "        f.write( sortedFile[i] )"
   ]
  },
  {
   "cell_type": "code",
   "execution_count": null,
   "metadata": {},
   "outputs": [],
   "source": []
  }
 ],
 "metadata": {
  "kernelspec": {
   "display_name": "Python 3",
   "language": "python",
   "name": "python3"
  },
  "language_info": {
   "codemirror_mode": {
    "name": "ipython",
    "version": 3
   },
   "file_extension": ".py",
   "mimetype": "text/x-python",
   "name": "python",
   "nbconvert_exporter": "python",
   "pygments_lexer": "ipython3",
   "version": "3.8.5"
  }
 },
 "nbformat": 4,
 "nbformat_minor": 4
}
